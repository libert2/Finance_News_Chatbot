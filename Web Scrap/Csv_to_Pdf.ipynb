{
  "nbformat": 4,
  "nbformat_minor": 0,
  "metadata": {
    "colab": {
      "provenance": []
    },
    "kernelspec": {
      "name": "python3",
      "display_name": "Python 3"
    },
    "language_info": {
      "name": "python"
    }
  },
  "cells": [
    {
      "cell_type": "code",
      "execution_count": null,
      "metadata": {
        "id": "6vYkZdyIOYPx"
      },
      "outputs": [],
      "source": [
        "!pip install fpdf\n",
        "\n",
        "from fpdf import FPDF\n",
        "import pandas as pd\n",
        "\n",
        "# Define a class to create the PDF\n",
        "class PDF(FPDF):\n",
        "    def header(self):\n",
        "        self.set_font('Arial', 'B', 12)\n",
        "        self.cell(0, 10, '', 0, 1, 'C')\n",
        "\n",
        "    def footer(self):\n",
        "        self.set_y(-15)\n",
        "        self.set_font('Arial', 'I', 8)\n",
        "        self.cell(0, 10, f'Page {self.page_no()}', 0, 0, 'C')\n",
        "\n",
        "# Load your CSV file\n",
        "df = pd.read_csv('/content/drive/MyDrive/ALLM_Project/RI_M1.csv')\n",
        "\n",
        "# Create instance of FPDF class\n",
        "pdf = PDF()\n",
        "\n",
        "# Add a page\n",
        "pdf.add_page()\n",
        "\n",
        "# Set font to Arial, '', 12 pts\n",
        "pdf.set_font('Arial', '', 10)\n",
        "\n",
        "# Add Unicode font support for special characters\n",
        "pdf.add_font('DejaVu', '', '/content/drive/MyDrive/ALLM_Project/DejaVuSansCondensed.ttf', uni=True)\n",
        "pdf.set_font('DejaVu', '', 10)\n",
        "# Adjust cell width and height to fit more content\n",
        "cell_width = 180  # Adjust as needed based on content length\n",
        "cell_height = 7   # Adjust as needed based on content length\n",
        "\n",
        "# Cell width for the Tags field\n",
        "tags_cell_width = 150  # Adjust as needed based on content length\n",
        "\n",
        "# Iterate through each row of the DataFrame\n",
        "for index, row in df.iterrows():\n",
        "    # Cell for Company\n",
        "    pdf.cell(cell_width, cell_height, txt=f\"Company: {row['company']}\", ln=True)\n",
        "\n",
        "    # Cell for Date Published (can adjust width if needed for long dates)\n",
        "    pdf.cell(cell_width, cell_height, txt=f\"Date Published: {row['datePublished']}\", ln=True)\n",
        "\n",
        "    # Cell for Author\n",
        "    pdf.multi_cell(cell_width, cell_height, txt=f\"Author: {row['author']}\")\n",
        "\n",
        "    # Cell for Headline - Set bold for emphasis\n",
        "    pdf.cell(cell_width, cell_height, txt=f\"Headline: {row['headline']}\", ln=True)\n",
        "\n",
        "    # Cell for Description\n",
        "    pdf.multi_cell(cell_width, cell_height, txt=f\"Description: {row['description']}\")\n",
        "\n",
        "    # Cell for Article Body - You can split into multiple cells if very long\n",
        "    pdf.multi_cell(cell_width, cell_height, txt=f\"Article Body: {row['articleBody']}\")\n",
        "\n",
        "    # Cell for Tags\n",
        "    pdf.multi_cell(tags_cell_width, cell_height, txt=f\"Tags: {row['tags']}\")\n",
        "\n",
        "    # Cell for URL\n",
        "    pdf.multi_cell(cell_width, cell_height, txt=f\"URL: {row['url']}\")\n",
        "\n",
        "    # Add an empty line for spacing\n",
        "    pdf.cell(0, cell_height, txt=\"\", ln=True)\n",
        "# Save the PDF with name output_file.pdf\n",
        "pdf.output(\"output_file.pdf\")\n",
        "from google.colab import files\n",
        "files.download('output_file.pdf')"
      ]
    }
  ]
}
